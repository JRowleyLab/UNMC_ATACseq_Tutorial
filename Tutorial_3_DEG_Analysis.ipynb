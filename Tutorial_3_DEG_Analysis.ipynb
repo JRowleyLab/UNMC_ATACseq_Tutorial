{
 "cells": [
  {
   "cell_type": "markdown",
   "metadata": {},
   "source": [
    "# RNA-Seq Analysis Training Demo"
   ]
  },
  {
   "cell_type": "markdown",
   "metadata": {},
   "source": [
    "## Overview"
   ]
  },
  {
   "cell_type": "markdown",
   "metadata": {},
   "source": [
    "This tutorial will show you the following workflow that is used to generate the list of differentially expressed genes.\n",
    "\n",
    "\n",
    "![RNA-Seq workflow](images/count-workflow.png)"
   ]
  },
  {
   "cell_type": "markdown",
   "metadata": {},
   "source": [
    "### STEP 1: Library Installation\n",
    "\n",
    "First install the R packages that will be used."
   ]
  },
  {
   "cell_type": "code",
   "execution_count": 1,
   "metadata": {},
   "outputs": [
    {
     "name": "stderr",
     "output_type": "stream",
     "text": [
      "Installing package into ‘/home/jupyter/.R/library’\n",
      "(as ‘lib’ is unspecified)\n",
      "\n",
      "Loading required package: ComplexHeatmap\n",
      "\n",
      "Warning message in library(package, lib.loc = lib.loc, character.only = TRUE, logical.return = TRUE, :\n",
      "“there is no package called ‘ComplexHeatmap’”\n",
      "'getOption(\"repos\")' replaces Bioconductor standard repositories, see\n",
      "'?repositories' for details\n",
      "\n",
      "replacement repositories:\n",
      "    CRAN: https://cloud.r-project.org\n",
      "\n",
      "\n",
      "Bioconductor version 3.15 (BiocManager 1.30.17), R 4.2.0 (2022-04-22)\n",
      "\n",
      "Installing package(s) 'BiocVersion', 'ComplexHeatmap'\n",
      "\n",
      "also installing the dependencies ‘shape’, ‘rjson’, ‘BiocGenerics’, ‘S4Vectors’, ‘iterators’, ‘circlize’, ‘GetoptLong’, ‘clue’, ‘GlobalOptions’, ‘IRanges’, ‘matrixStats’, ‘foreach’, ‘doParallel’\n",
      "\n",
      "\n",
      "Installation paths not writeable, unable to update packages\n",
      "  path: /usr/local/lib/R/site-library\n",
      "  packages:\n",
      "    tinytex\n",
      "\n",
      "Loading required package: DESeq2\n",
      "\n",
      "Warning message in library(package, lib.loc = lib.loc, character.only = TRUE, logical.return = TRUE, :\n",
      "“there is no package called ‘DESeq2’”\n",
      "'getOption(\"repos\")' replaces Bioconductor standard repositories, see\n",
      "'?repositories' for details\n",
      "\n",
      "replacement repositories:\n",
      "    CRAN: https://cloud.r-project.org\n",
      "\n",
      "\n",
      "Bioconductor version 3.15 (BiocManager 1.30.17), R 4.2.0 (2022-04-22)\n",
      "\n",
      "Installing package(s) 'DESeq2'\n",
      "\n",
      "also installing the dependencies ‘plogr’, ‘Biostrings’, ‘GenomeInfoDbData’, ‘zlibbioc’, ‘lambda.r’, ‘futile.options’, ‘RSQLite’, ‘KEGGREST’, ‘GenomeInfoDb’, ‘XVector’, ‘MatrixGenerics’, ‘DelayedArray’, ‘futile.logger’, ‘snow’, ‘BH’, ‘AnnotationDbi’, ‘annotate’, ‘GenomicRanges’, ‘SummarizedExperiment’, ‘Biobase’, ‘BiocParallel’, ‘genefilter’, ‘locfit’, ‘geneplotter’, ‘RcppArmadillo’\n",
      "\n",
      "\n",
      "Installation paths not writeable, unable to update packages\n",
      "  path: /usr/local/lib/R/site-library\n",
      "  packages:\n",
      "    tinytex\n",
      "\n",
      "Loading required package: dplyr\n",
      "\n",
      "\n",
      "Attaching package: ‘dplyr’\n",
      "\n",
      "\n",
      "The following objects are masked from ‘package:stats’:\n",
      "\n",
      "    filter, lag\n",
      "\n",
      "\n",
      "The following objects are masked from ‘package:base’:\n",
      "\n",
      "    intersect, setdiff, setequal, union\n",
      "\n",
      "\n",
      "Loading required package: pheatmap\n",
      "\n",
      "Warning message in library(package, lib.loc = lib.loc, character.only = TRUE, logical.return = TRUE, :\n",
      "“there is no package called ‘pheatmap’”\n",
      "Installing package into ‘/home/jupyter/.R/library’\n",
      "(as ‘lib’ is unspecified)\n",
      "\n",
      "Loading required package: ggrepel\n",
      "\n",
      "Warning message in library(package, lib.loc = lib.loc, character.only = TRUE, logical.return = TRUE, :\n",
      "“there is no package called ‘ggrepel’”\n",
      "Installing package into ‘/home/jupyter/.R/library’\n",
      "(as ‘lib’ is unspecified)\n",
      "\n",
      "Loading required package: S4Vectors\n",
      "\n",
      "Loading required package: stats4\n",
      "\n",
      "Loading required package: BiocGenerics\n",
      "\n",
      "\n",
      "Attaching package: ‘BiocGenerics’\n",
      "\n",
      "\n",
      "The following objects are masked from ‘package:dplyr’:\n",
      "\n",
      "    combine, intersect, setdiff, union\n",
      "\n",
      "\n",
      "The following objects are masked from ‘package:stats’:\n",
      "\n",
      "    IQR, mad, sd, var, xtabs\n",
      "\n",
      "\n",
      "The following objects are masked from ‘package:base’:\n",
      "\n",
      "    anyDuplicated, append, as.data.frame, basename, cbind, colnames,\n",
      "    dirname, do.call, duplicated, eval, evalq, Filter, Find, get, grep,\n",
      "    grepl, intersect, is.unsorted, lapply, Map, mapply, match, mget,\n",
      "    order, paste, pmax, pmax.int, pmin, pmin.int, Position, rank,\n",
      "    rbind, Reduce, rownames, sapply, setdiff, sort, table, tapply,\n",
      "    union, unique, unsplit, which.max, which.min\n",
      "\n",
      "\n",
      "\n",
      "Attaching package: ‘S4Vectors’\n",
      "\n",
      "\n",
      "The following objects are masked from ‘package:dplyr’:\n",
      "\n",
      "    first, rename\n",
      "\n",
      "\n",
      "The following objects are masked from ‘package:base’:\n",
      "\n",
      "    expand.grid, I, unname\n",
      "\n",
      "\n",
      "Loading required package: IRanges\n",
      "\n",
      "\n",
      "Attaching package: ‘IRanges’\n",
      "\n",
      "\n",
      "The following objects are masked from ‘package:dplyr’:\n",
      "\n",
      "    collapse, desc, slice\n",
      "\n",
      "\n",
      "Loading required package: GenomicRanges\n",
      "\n",
      "Loading required package: GenomeInfoDb\n",
      "\n",
      "Loading required package: SummarizedExperiment\n",
      "\n",
      "Loading required package: MatrixGenerics\n",
      "\n",
      "Loading required package: matrixStats\n",
      "\n",
      "\n",
      "Attaching package: ‘matrixStats’\n",
      "\n",
      "\n",
      "The following object is masked from ‘package:dplyr’:\n",
      "\n",
      "    count\n",
      "\n",
      "\n",
      "\n",
      "Attaching package: ‘MatrixGenerics’\n",
      "\n",
      "\n",
      "The following objects are masked from ‘package:matrixStats’:\n",
      "\n",
      "    colAlls, colAnyNAs, colAnys, colAvgsPerRowSet, colCollapse,\n",
      "    colCounts, colCummaxs, colCummins, colCumprods, colCumsums,\n",
      "    colDiffs, colIQRDiffs, colIQRs, colLogSumExps, colMadDiffs,\n",
      "    colMads, colMaxs, colMeans2, colMedians, colMins, colOrderStats,\n",
      "    colProds, colQuantiles, colRanges, colRanks, colSdDiffs, colSds,\n",
      "    colSums2, colTabulates, colVarDiffs, colVars, colWeightedMads,\n",
      "    colWeightedMeans, colWeightedMedians, colWeightedSds,\n",
      "    colWeightedVars, rowAlls, rowAnyNAs, rowAnys, rowAvgsPerColSet,\n",
      "    rowCollapse, rowCounts, rowCummaxs, rowCummins, rowCumprods,\n",
      "    rowCumsums, rowDiffs, rowIQRDiffs, rowIQRs, rowLogSumExps,\n",
      "    rowMadDiffs, rowMads, rowMaxs, rowMeans2, rowMedians, rowMins,\n",
      "    rowOrderStats, rowProds, rowQuantiles, rowRanges, rowRanks,\n",
      "    rowSdDiffs, rowSds, rowSums2, rowTabulates, rowVarDiffs, rowVars,\n",
      "    rowWeightedMads, rowWeightedMeans, rowWeightedMedians,\n",
      "    rowWeightedSds, rowWeightedVars\n",
      "\n",
      "\n",
      "Loading required package: Biobase\n",
      "\n",
      "Welcome to Bioconductor\n",
      "\n",
      "    Vignettes contain introductory material; view with\n",
      "    'browseVignettes()'. To cite Bioconductor, see\n",
      "    'citation(\"Biobase\")', and for packages 'citation(\"pkgname\")'.\n",
      "\n",
      "\n",
      "\n",
      "Attaching package: ‘Biobase’\n",
      "\n",
      "\n",
      "The following object is masked from ‘package:MatrixGenerics’:\n",
      "\n",
      "    rowMedians\n",
      "\n",
      "\n",
      "The following objects are masked from ‘package:matrixStats’:\n",
      "\n",
      "    anyMissing, rowMedians\n",
      "\n",
      "\n",
      "Loading required package: grid\n",
      "\n",
      "========================================\n",
      "ComplexHeatmap version 2.12.0\n",
      "Bioconductor page: http://bioconductor.org/packages/ComplexHeatmap/\n",
      "Github page: https://github.com/jokergoo/ComplexHeatmap\n",
      "Documentation: http://jokergoo.github.io/ComplexHeatmap-reference\n",
      "\n",
      "If you use it in published research, please cite:\n",
      "Gu, Z. Complex heatmaps reveal patterns and correlations in multidimensional \n",
      "  genomic data. Bioinformatics 2016.\n",
      "\n",
      "The new InteractiveComplexHeatmap package can directly export static \n",
      "complex heatmaps into an interactive Shiny app with zero effort. Have a try!\n",
      "\n",
      "This message can be suppressed by:\n",
      "  suppressPackageStartupMessages(library(ComplexHeatmap))\n",
      "========================================\n",
      "! pheatmap() has been masked by ComplexHeatmap::pheatmap(). Most of the arguments\n",
      "   in the original pheatmap() are identically supported in the new function. You \n",
      "   can still use the original function by explicitly calling pheatmap::pheatmap().\n",
      "\n",
      "\n",
      "\n",
      "Attaching package: ‘ComplexHeatmap’\n",
      "\n",
      "\n",
      "The following object is masked from ‘package:pheatmap’:\n",
      "\n",
      "    pheatmap\n",
      "\n",
      "\n"
     ]
    }
   ],
   "source": [
    "###install the libraries first, if required\n",
    "install.packages(\"BiocManager\")\n",
    "\n",
    "if (!require(\"ComplexHeatmap\"))\n",
    "    install(\"ComplexHeatmap\")\n",
    "\n",
    "if (!require(\"DESeq2\"))\n",
    "    BiocManager::install(\"DESeq2\")\n",
    "\n",
    "if (!require(\"dplyr\"))\n",
    "    install.packages(\"dplyr\")\n",
    "\n",
    "if (!require(\"pheatmap\"))\n",
    "    install.packages(\"pheatmap\")\n",
    "\n",
    "if (!require(\"ggrepel\"))\n",
    "    install.packages(\"ggrepel\")\n",
    "\n",
    "###load the libraries\n",
    "library(DESeq2)\n",
    "library(dplyr)\n",
    "library(pheatmap)\n",
    "library(ComplexHeatmap)\n",
    "library(ggplot2)\n",
    "library(ggrepel)"
   ]
  },
  {
   "cell_type": "markdown",
   "metadata": {
    "tags": []
   },
   "source": [
    "### STEP 2: Reading in Data\n",
    "\n",
    "Next load in the gene count data that will be analyzed.\n",
    "\n",
    "To make the next steps easier we will also reformat the data a little bit.\n",
    "\n",
    "First, as the next steps will process the data mathematically, we will create a variable which holds only the columns of data which contain the numerical read count data, removing non-numerical or metadata columns such as the rowname column.\n",
    "\n",
    "Additionally, as we will use normalization involving logarithms, we will replace all readcount values of '0' in our data, with '1'. This will change the data only slightly, and will prevent these zeroes from causing an 'undefined' or 'N/A' math error in the logarithm normalization step.\n"
   ]
  },
  {
   "cell_type": "code",
   "execution_count": 2,
   "metadata": {},
   "outputs": [
    {
     "data": {
      "text/html": [],
      "text/latex": [],
      "text/markdown": [],
      "text/plain": [
       "character(0)"
      ]
     },
     "metadata": {},
     "output_type": "display_data"
    },
    {
     "data": {
      "text/html": [],
      "text/latex": [],
      "text/markdown": [],
      "text/plain": [
       "character(0)"
      ]
     },
     "metadata": {},
     "output_type": "display_data"
    },
    {
     "data": {
      "text/html": [],
      "text/latex": [],
      "text/markdown": [],
      "text/plain": [
       "character(0)"
      ]
     },
     "metadata": {},
     "output_type": "display_data"
    },
    {
     "data": {
      "text/html": [],
      "text/latex": [],
      "text/markdown": [],
      "text/plain": [
       "character(0)"
      ]
     },
     "metadata": {},
     "output_type": "display_data"
    },
    {
     "data": {
      "text/html": [
       "<table class=\"dataframe\">\n",
       "<caption>A data.frame: 6 × 12</caption>\n",
       "<thead>\n",
       "\t<tr><th></th><th scope=col>SRR13349122</th><th scope=col>SRR13349123</th><th scope=col>SRR13349124</th><th scope=col>SRR13349125</th><th scope=col>SRR13349126</th><th scope=col>SRR13349127</th><th scope=col>SRR13349128</th><th scope=col>SRR13349129</th><th scope=col>SRR13349130</th><th scope=col>SRR13349131</th><th scope=col>SRR13349132</th><th scope=col>SRR13349133</th></tr>\n",
       "\t<tr><th></th><th scope=col>&lt;dbl&gt;</th><th scope=col>&lt;dbl&gt;</th><th scope=col>&lt;dbl&gt;</th><th scope=col>&lt;dbl&gt;</th><th scope=col>&lt;dbl&gt;</th><th scope=col>&lt;dbl&gt;</th><th scope=col>&lt;dbl&gt;</th><th scope=col>&lt;dbl&gt;</th><th scope=col>&lt;dbl&gt;</th><th scope=col>&lt;dbl&gt;</th><th scope=col>&lt;dbl&gt;</th><th scope=col>&lt;dbl&gt;</th></tr>\n",
       "</thead>\n",
       "<tbody>\n",
       "\t<tr><th scope=row>BB28_RS24845</th><td> 59</td><td> 59</td><td> 40</td><td> 54</td><td> 47</td><td> 58</td><td> 14</td><td> 31</td><td> 21</td><td> 15</td><td> 19</td><td> 27</td></tr>\n",
       "\t<tr><th scope=row>BB28_RS24840</th><td>156</td><td>152</td><td>138</td><td>158</td><td>118</td><td>170</td><td> 49</td><td> 52</td><td> 41</td><td> 40</td><td> 64</td><td> 73</td></tr>\n",
       "\t<tr><th scope=row>BB28_RS24300</th><td>495</td><td>525</td><td>396</td><td>438</td><td>438</td><td>493</td><td>155</td><td>197</td><td>128</td><td>131</td><td>180</td><td>225</td></tr>\n",
       "\t<tr><th scope=row>BB28_RS24270</th><td>  2</td><td>  1</td><td>  3</td><td>  1</td><td>  1</td><td>  1</td><td>  1</td><td>  1</td><td>  1</td><td>  1</td><td>  1</td><td>  2</td></tr>\n",
       "\t<tr><th scope=row>BB28_RS24265</th><td>  9</td><td> 17</td><td>  5</td><td>  9</td><td>  2</td><td> 15</td><td>  2</td><td>  3</td><td>  2</td><td>  4</td><td>  8</td><td>  1</td></tr>\n",
       "\t<tr><th scope=row>BB28_RS24255</th><td> 11</td><td>  7</td><td> 11</td><td>  8</td><td>  9</td><td>  6</td><td> 11</td><td> 14</td><td> 10</td><td> 16</td><td> 19</td><td> 31</td></tr>\n",
       "</tbody>\n",
       "</table>\n"
      ],
      "text/latex": [
       "A data.frame: 6 × 12\n",
       "\\begin{tabular}{r|llllllllllll}\n",
       "  & SRR13349122 & SRR13349123 & SRR13349124 & SRR13349125 & SRR13349126 & SRR13349127 & SRR13349128 & SRR13349129 & SRR13349130 & SRR13349131 & SRR13349132 & SRR13349133\\\\\n",
       "  & <dbl> & <dbl> & <dbl> & <dbl> & <dbl> & <dbl> & <dbl> & <dbl> & <dbl> & <dbl> & <dbl> & <dbl>\\\\\n",
       "\\hline\n",
       "\tBB28\\_RS24845 &  59 &  59 &  40 &  54 &  47 &  58 &  14 &  31 &  21 &  15 &  19 &  27\\\\\n",
       "\tBB28\\_RS24840 & 156 & 152 & 138 & 158 & 118 & 170 &  49 &  52 &  41 &  40 &  64 &  73\\\\\n",
       "\tBB28\\_RS24300 & 495 & 525 & 396 & 438 & 438 & 493 & 155 & 197 & 128 & 131 & 180 & 225\\\\\n",
       "\tBB28\\_RS24270 &   2 &   1 &   3 &   1 &   1 &   1 &   1 &   1 &   1 &   1 &   1 &   2\\\\\n",
       "\tBB28\\_RS24265 &   9 &  17 &   5 &   9 &   2 &  15 &   2 &   3 &   2 &   4 &   8 &   1\\\\\n",
       "\tBB28\\_RS24255 &  11 &   7 &  11 &   8 &   9 &   6 &  11 &  14 &  10 &  16 &  19 &  31\\\\\n",
       "\\end{tabular}\n"
      ],
      "text/markdown": [
       "\n",
       "A data.frame: 6 × 12\n",
       "\n",
       "| <!--/--> | SRR13349122 &lt;dbl&gt; | SRR13349123 &lt;dbl&gt; | SRR13349124 &lt;dbl&gt; | SRR13349125 &lt;dbl&gt; | SRR13349126 &lt;dbl&gt; | SRR13349127 &lt;dbl&gt; | SRR13349128 &lt;dbl&gt; | SRR13349129 &lt;dbl&gt; | SRR13349130 &lt;dbl&gt; | SRR13349131 &lt;dbl&gt; | SRR13349132 &lt;dbl&gt; | SRR13349133 &lt;dbl&gt; |\n",
       "|---|---|---|---|---|---|---|---|---|---|---|---|---|\n",
       "| BB28_RS24845 |  59 |  59 |  40 |  54 |  47 |  58 |  14 |  31 |  21 |  15 |  19 |  27 |\n",
       "| BB28_RS24840 | 156 | 152 | 138 | 158 | 118 | 170 |  49 |  52 |  41 |  40 |  64 |  73 |\n",
       "| BB28_RS24300 | 495 | 525 | 396 | 438 | 438 | 493 | 155 | 197 | 128 | 131 | 180 | 225 |\n",
       "| BB28_RS24270 |   2 |   1 |   3 |   1 |   1 |   1 |   1 |   1 |   1 |   1 |   1 |   2 |\n",
       "| BB28_RS24265 |   9 |  17 |   5 |   9 |   2 |  15 |   2 |   3 |   2 |   4 |   8 |   1 |\n",
       "| BB28_RS24255 |  11 |   7 |  11 |   8 |   9 |   6 |  11 |  14 |  10 |  16 |  19 |  31 |\n",
       "\n"
      ],
      "text/plain": [
       "             SRR13349122 SRR13349123 SRR13349124 SRR13349125 SRR13349126\n",
       "BB28_RS24845  59          59          40          54          47        \n",
       "BB28_RS24840 156         152         138         158         118        \n",
       "BB28_RS24300 495         525         396         438         438        \n",
       "BB28_RS24270   2           1           3           1           1        \n",
       "BB28_RS24265   9          17           5           9           2        \n",
       "BB28_RS24255  11           7          11           8           9        \n",
       "             SRR13349127 SRR13349128 SRR13349129 SRR13349130 SRR13349131\n",
       "BB28_RS24845  58          14          31          21          15        \n",
       "BB28_RS24840 170          49          52          41          40        \n",
       "BB28_RS24300 493         155         197         128         131        \n",
       "BB28_RS24270   1           1           1           1           1        \n",
       "BB28_RS24265  15           2           3           2           4        \n",
       "BB28_RS24255   6          11          14          10          16        \n",
       "             SRR13349132 SRR13349133\n",
       "BB28_RS24845  19          27        \n",
       "BB28_RS24840  64          73        \n",
       "BB28_RS24300 180         225        \n",
       "BB28_RS24270   1           2        \n",
       "BB28_RS24265   8           1        \n",
       "BB28_RS24255  19          31        "
      ]
     },
     "metadata": {},
     "output_type": "display_data"
    }
   ],
   "source": [
    "#get genecounts and annotation file from cloud storage bucket\n",
    "system(\"mkdir -p data/gene_counts\", intern=TRUE)\n",
    "system(\"mkdir -p data/reference\", intern=TRUE)\n",
    "system(\"curl https://storage.googleapis.com/me-inbre-rnaseq-pipelinev2/data/salmon/SRP300216_merged_quants.txt --output data/gene_counts/SRP300216_genecounts.txt\", intern=TRUE)\n",
    "system(\"curl https://storage.googleapis.com/me-inbre-rnaseq-pipelinev2/data/reference/GCF_001632805.1_ASM163280v1_feature_table.txt --output data/reference/GCF_001632805.1_ASM163280v1_feature_table.txt\", intern=TRUE)\n",
    "\n",
    "\n",
    "#assign the raw gene count file to a variable 'read_counts'\n",
    "read_counts <- read.table('data/gene_counts/SRP300216_genecounts.txt',head=TRUE)\n",
    "\n",
    "#replace all count entries of '0' in the raw gene count file with '1'.\n",
    "read_counts[read_counts==0] <- 1\n",
    "\n",
    "#assign the numerical read counts to another variable we will call 'rnaseqMatrix'\n",
    "rnaseqMatrix <- round(read_counts[,c(2:13)])\n",
    "\n",
    "\n",
    "#label the rownames of this matrix with the rowname column from the gene count file.\n",
    "rownames(rnaseqMatrix) <- read_counts[,1]\n",
    "\n",
    "head(rnaseqMatrix)\n"
   ]
  },
  {
   "cell_type": "markdown",
   "metadata": {},
   "source": [
    "### STEP 4: Specifying Experimental Design\n",
    "\n",
    "Next specify the experimental design. The deseq2 tool will use this design to calculate information about differences in gene expression between specified groups."
   ]
  },
  {
   "cell_type": "code",
   "execution_count": 3,
   "metadata": {},
   "outputs": [
    {
     "data": {
      "text/html": [
       "<table class=\"dataframe\">\n",
       "<caption>A data.frame: 12 × 2</caption>\n",
       "<thead>\n",
       "\t<tr><th></th><th scope=col>ID</th><th scope=col>Treatment</th></tr>\n",
       "\t<tr><th></th><th scope=col>&lt;chr&gt;</th><th scope=col>&lt;chr&gt;</th></tr>\n",
       "</thead>\n",
       "<tbody>\n",
       "\t<tr><th scope=row>SRR13349122</th><td>SRR13349122</td><td>WT         </td></tr>\n",
       "\t<tr><th scope=row>SRR13349123</th><td>SRR13349123</td><td>WT         </td></tr>\n",
       "\t<tr><th scope=row>SRR13349124</th><td>SRR13349124</td><td>WT         </td></tr>\n",
       "\t<tr><th scope=row>SRR13349125</th><td>SRR13349125</td><td>WT         </td></tr>\n",
       "\t<tr><th scope=row>SRR13349126</th><td>SRR13349126</td><td>WT         </td></tr>\n",
       "\t<tr><th scope=row>SRR13349127</th><td>SRR13349127</td><td>WT         </td></tr>\n",
       "\t<tr><th scope=row>SRR13349128</th><td>SRR13349128</td><td>BPs_lysogen</td></tr>\n",
       "\t<tr><th scope=row>SRR13349129</th><td>SRR13349129</td><td>BPs_lysogen</td></tr>\n",
       "\t<tr><th scope=row>SRR13349130</th><td>SRR13349130</td><td>BPs_lysogen</td></tr>\n",
       "\t<tr><th scope=row>SRR13349131</th><td>SRR13349131</td><td>BPs_lysogen</td></tr>\n",
       "\t<tr><th scope=row>SRR13349132</th><td>SRR13349132</td><td>BPs_lysogen</td></tr>\n",
       "\t<tr><th scope=row>SRR13349133</th><td>SRR13349133</td><td>BPs_lysogen</td></tr>\n",
       "</tbody>\n",
       "</table>\n"
      ],
      "text/latex": [
       "A data.frame: 12 × 2\n",
       "\\begin{tabular}{r|ll}\n",
       "  & ID & Treatment\\\\\n",
       "  & <chr> & <chr>\\\\\n",
       "\\hline\n",
       "\tSRR13349122 & SRR13349122 & WT         \\\\\n",
       "\tSRR13349123 & SRR13349123 & WT         \\\\\n",
       "\tSRR13349124 & SRR13349124 & WT         \\\\\n",
       "\tSRR13349125 & SRR13349125 & WT         \\\\\n",
       "\tSRR13349126 & SRR13349126 & WT         \\\\\n",
       "\tSRR13349127 & SRR13349127 & WT         \\\\\n",
       "\tSRR13349128 & SRR13349128 & BPs\\_lysogen\\\\\n",
       "\tSRR13349129 & SRR13349129 & BPs\\_lysogen\\\\\n",
       "\tSRR13349130 & SRR13349130 & BPs\\_lysogen\\\\\n",
       "\tSRR13349131 & SRR13349131 & BPs\\_lysogen\\\\\n",
       "\tSRR13349132 & SRR13349132 & BPs\\_lysogen\\\\\n",
       "\tSRR13349133 & SRR13349133 & BPs\\_lysogen\\\\\n",
       "\\end{tabular}\n"
      ],
      "text/markdown": [
       "\n",
       "A data.frame: 12 × 2\n",
       "\n",
       "| <!--/--> | ID &lt;chr&gt; | Treatment &lt;chr&gt; |\n",
       "|---|---|---|\n",
       "| SRR13349122 | SRR13349122 | WT          |\n",
       "| SRR13349123 | SRR13349123 | WT          |\n",
       "| SRR13349124 | SRR13349124 | WT          |\n",
       "| SRR13349125 | SRR13349125 | WT          |\n",
       "| SRR13349126 | SRR13349126 | WT          |\n",
       "| SRR13349127 | SRR13349127 | WT          |\n",
       "| SRR13349128 | SRR13349128 | BPs_lysogen |\n",
       "| SRR13349129 | SRR13349129 | BPs_lysogen |\n",
       "| SRR13349130 | SRR13349130 | BPs_lysogen |\n",
       "| SRR13349131 | SRR13349131 | BPs_lysogen |\n",
       "| SRR13349132 | SRR13349132 | BPs_lysogen |\n",
       "| SRR13349133 | SRR13349133 | BPs_lysogen |\n",
       "\n"
      ],
      "text/plain": [
       "            ID          Treatment  \n",
       "SRR13349122 SRR13349122 WT         \n",
       "SRR13349123 SRR13349123 WT         \n",
       "SRR13349124 SRR13349124 WT         \n",
       "SRR13349125 SRR13349125 WT         \n",
       "SRR13349126 SRR13349126 WT         \n",
       "SRR13349127 SRR13349127 WT         \n",
       "SRR13349128 SRR13349128 BPs_lysogen\n",
       "SRR13349129 SRR13349129 BPs_lysogen\n",
       "SRR13349130 SRR13349130 BPs_lysogen\n",
       "SRR13349131 SRR13349131 BPs_lysogen\n",
       "SRR13349132 SRR13349132 BPs_lysogen\n",
       "SRR13349133 SRR13349133 BPs_lysogen"
      ]
     },
     "metadata": {},
     "output_type": "display_data"
    }
   ],
   "source": [
    "# define the sample experimental design\n",
    "\n",
    "samples_treatment <- data.frame(matrix(c(rep(\"WT\",6),rep(\"BPs_lysogen\",6)),ncol=1))\n",
    "samples_ID <- data.frame(matrix(colnames(rnaseqMatrix),ncol=1))\n",
    "samples <- cbind(samples_ID,samples_treatment)\n",
    "names(samples) <- c(\"ID\",\"Treatment\")\n",
    "rownames(samples) <- samples[,1]\n",
    "\n",
    "# example of how an experimental design table might look, in this case\n",
    "# comprised of a column with sample ids, and a column with treatment group id\n",
    "samples\n",
    "\n"
   ]
  },
  {
   "cell_type": "markdown",
   "metadata": {},
   "source": [
    "### STEP 5: Creating Deseq2 Object\n",
    "\n",
    "Now input the treatment design matrix, as well as the readcount data, into the deseq2 tool to create a deseq2 object. This is also an opportunity to inspect pre-normalized data using pairwise comparison plots."
   ]
  },
  {
   "cell_type": "code",
   "execution_count": 4,
   "metadata": {},
   "outputs": [
    {
     "name": "stderr",
     "output_type": "stream",
     "text": [
      "converting counts to integer mode\n",
      "\n",
      "Warning message in DESeqDataSet(se, design = design, ignoreRank):\n",
      "“some variables in design formula are characters, converting to factors”\n"
     ]
    },
    {
     "data": {
      "text/html": [
       "<style>\n",
       ".list-inline {list-style: none; margin:0; padding: 0}\n",
       ".list-inline>li {display: inline-block}\n",
       ".list-inline>li:not(:last-child)::after {content: \"\\00b7\"; padding: 0 .5ex}\n",
       "</style>\n",
       "<ol class=list-inline><li>4906</li><li>12</li></ol>\n"
      ],
      "text/latex": [
       "\\begin{enumerate*}\n",
       "\\item 4906\n",
       "\\item 12\n",
       "\\end{enumerate*}\n"
      ],
      "text/markdown": [
       "1. 4906\n",
       "2. 12\n",
       "\n",
       "\n"
      ],
      "text/plain": [
       "[1] 4906   12"
      ]
     },
     "metadata": {},
     "output_type": "display_data"
    },
    {
     "data": {
      "text/html": [
       "<style>\n",
       ".list-inline {list-style: none; margin:0; padding: 0}\n",
       ".list-inline>li {display: inline-block}\n",
       ".list-inline>li:not(:last-child)::after {content: \"\\00b7\"; padding: 0 .5ex}\n",
       "</style>\n",
       "<ol class=list-inline><li>4906</li><li>12</li></ol>\n"
      ],
      "text/latex": [
       "\\begin{enumerate*}\n",
       "\\item 4906\n",
       "\\item 12\n",
       "\\end{enumerate*}\n"
      ],
      "text/markdown": [
       "1. 4906\n",
       "2. 12\n",
       "\n",
       "\n"
      ],
      "text/plain": [
       "[1] 4906   12"
      ]
     },
     "metadata": {},
     "output_type": "display_data"
    },
    {
     "data": {
      "image/png": "[encoded data removed]",
      "text/plain": [
       "plot without title"
      ]
     },
     "metadata": {
      "image/png": {
       "height": 420,
       "width": 420
      }
     },
     "output_type": "display_data"
    },
    {
     "name": "stderr",
     "output_type": "stream",
     "text": [
      "estimating size factors\n",
      "\n",
      "estimating dispersions\n",
      "\n",
      "gene-wise dispersion estimates\n",
      "\n",
      "mean-dispersion relationship\n",
      "\n",
      "final dispersion estimates\n",
      "\n",
      "fitting model and testing\n",
      "\n"
     ]
    },
    {
     "data": {
      "image/png": "[encoded data removed]",
      "text/plain": [
       "plot without title"
      ]
     },
     "metadata": {
      "image/png": {
       "height": 420,
       "width": 420
      }
     },
     "output_type": "display_data"
    }
   ],
   "source": [
    "#Create the DEseq2DataSet object\n",
    "deseq2Data <- DESeqDataSetFromMatrix(countData = rnaseqMatrix,\n",
    "                              colData = samples,\n",
    "                              design = ~ Treatment)\n",
    "\n",
    "# Filter lowly expressed genes\n",
    "dim(deseq2Data)\n",
    "dim(deseq2Data[rowSums(counts(deseq2Data)) > 10, ])\n",
    "\n",
    "# Perform pre-filtering of the data\n",
    "deseq2Data <- deseq2Data[rowSums(counts(deseq2Data)) > 10, ]\n",
    "\n",
    "# Inspect pre-normalized data (this can take a long time to run)\n",
    "#pairs((counts(deseq2Data)))\n",
    "#hist((counts(deseq2Data)))\n",
    "#boxplot((counts(deseq2Data)))\n",
    "\n",
    "pairs(log2((counts(deseq2Data)+1)))\n",
    "#hist((counts(deseq2Data)))\n",
    "boxplot(log2((counts(deseq2Data)+1)))\n",
    "\n",
    "# Run pipeline for differential expression steps\n",
    "deseq2Data <- DESeq(deseq2Data)\n"
   ]
  },
  {
   "cell_type": "markdown",
   "metadata": {},
   "source": [
    "### STEP 6: Normalize Data\n",
    "\n",
    "Now normalize the data using the 'regular normalization' function from deseq2.\n",
    "\n",
    "Normalization of gene readcounts across samples will help to minimize sample variation noise and ensure more accurate comparisons."
   ]
  },
  {
   "cell_type": "code",
   "execution_count": 5,
   "metadata": {},
   "outputs": [
    {
     "data": {
      "text/html": [
       "<table class=\"dataframe\">\n",
       "<caption>A matrix: 6 × 12 of type dbl</caption>\n",
       "<thead>\n",
       "\t<tr><th></th><th scope=col>SRR13349122</th><th scope=col>SRR13349123</th><th scope=col>SRR13349124</th><th scope=col>SRR13349125</th><th scope=col>SRR13349126</th><th scope=col>SRR13349127</th><th scope=col>SRR13349128</th><th scope=col>SRR13349129</th><th scope=col>SRR13349130</th><th scope=col>SRR13349131</th><th scope=col>SRR13349132</th><th scope=col>SRR13349133</th></tr>\n",
       "</thead>\n",
       "<tbody>\n",
       "\t<tr><th scope=row>BB28_RS24845</th><td>5.5173373</td><td>5.3203123</td><td>5.238671</td><td>5.380138</td><td>5.3938321</td><td>5.4371112</td><td>4.6317708</td><td>5.0428593</td><td>4.9645060</td><td>4.6326787</td><td>4.6513561</td><td>4.7326682</td></tr>\n",
       "\t<tr><th scope=row>BB28_RS24840</th><td>7.0203605</td><td>6.7473125</td><td>6.996058</td><td>6.975100</td><td>6.8157966</td><td>7.0460728</td><td>6.0897440</td><td>5.9687928</td><td>6.0322325</td><td>5.8521914</td><td>6.1241707</td><td>6.0436049</td></tr>\n",
       "\t<tr><th scope=row>BB28_RS24300</th><td>8.7392100</td><td>8.5479404</td><td>8.585761</td><td>8.514263</td><td>8.7212867</td><td>8.6483741</td><td>7.6702813</td><td>7.7459317</td><td>7.5756186</td><td>7.4102589</td><td>7.5808027</td><td>7.6024544</td></tr>\n",
       "\t<tr><th scope=row>BB28_RS24270</th><td>0.4151992</td><td>0.3384616</td><td>0.486735</td><td>0.350577</td><td>0.3628578</td><td>0.3494475</td><td>0.3774238</td><td>0.3647934</td><td>0.3849537</td><td>0.3736342</td><td>0.3613699</td><td>0.4039952</td></tr>\n",
       "\t<tr><th scope=row>BB28_RS24265</th><td>2.6602362</td><td>2.8907806</td><td>2.495346</td><td>2.641411</td><td>2.3266594</td><td>2.8839911</td><td>2.3713057</td><td>2.3915198</td><td>2.3944866</td><td>2.4805262</td><td>2.6444774</td><td>2.2194832</td></tr>\n",
       "\t<tr><th scope=row>BB28_RS24255</th><td>3.5056074</td><td>3.2326578</td><td>3.558553</td><td>3.349171</td><td>3.4704839</td><td>3.2499029</td><td>3.6588154</td><td>3.7010733</td><td>3.6620384</td><td>3.8480202</td><td>3.8663263</td><td>4.1032590</td></tr>\n",
       "</tbody>\n",
       "</table>\n"
      ],
      "text/latex": [
       "A matrix: 6 × 12 of type dbl\n",
       "\\begin{tabular}{r|llllllllllll}\n",
       "  & SRR13349122 & SRR13349123 & SRR13349124 & SRR13349125 & SRR13349126 & SRR13349127 & SRR13349128 & SRR13349129 & SRR13349130 & SRR13349131 & SRR13349132 & SRR13349133\\\\\n",
       "\\hline\n",
       "\tBB28\\_RS24845 & 5.5173373 & 5.3203123 & 5.238671 & 5.380138 & 5.3938321 & 5.4371112 & 4.6317708 & 5.0428593 & 4.9645060 & 4.6326787 & 4.6513561 & 4.7326682\\\\\n",
       "\tBB28\\_RS24840 & 7.0203605 & 6.7473125 & 6.996058 & 6.975100 & 6.8157966 & 7.0460728 & 6.0897440 & 5.9687928 & 6.0322325 & 5.8521914 & 6.1241707 & 6.0436049\\\\\n",
       "\tBB28\\_RS24300 & 8.7392100 & 8.5479404 & 8.585761 & 8.514263 & 8.7212867 & 8.6483741 & 7.6702813 & 7.7459317 & 7.5756186 & 7.4102589 & 7.5808027 & 7.6024544\\\\\n",
       "\tBB28\\_RS24270 & 0.4151992 & 0.3384616 & 0.486735 & 0.350577 & 0.3628578 & 0.3494475 & 0.3774238 & 0.3647934 & 0.3849537 & 0.3736342 & 0.3613699 & 0.4039952\\\\\n",
       "\tBB28\\_RS24265 & 2.6602362 & 2.8907806 & 2.495346 & 2.641411 & 2.3266594 & 2.8839911 & 2.3713057 & 2.3915198 & 2.3944866 & 2.4805262 & 2.6444774 & 2.2194832\\\\\n",
       "\tBB28\\_RS24255 & 3.5056074 & 3.2326578 & 3.558553 & 3.349171 & 3.4704839 & 3.2499029 & 3.6588154 & 3.7010733 & 3.6620384 & 3.8480202 & 3.8663263 & 4.1032590\\\\\n",
       "\\end{tabular}\n"
      ],
      "text/markdown": [
       "\n",
       "A matrix: 6 × 12 of type dbl\n",
       "\n",
       "| <!--/--> | SRR13349122 | SRR13349123 | SRR13349124 | SRR13349125 | SRR13349126 | SRR13349127 | SRR13349128 | SRR13349129 | SRR13349130 | SRR13349131 | SRR13349132 | SRR13349133 |\n",
       "|---|---|---|---|---|---|---|---|---|---|---|---|---|\n",
       "| BB28_RS24845 | 5.5173373 | 5.3203123 | 5.238671 | 5.380138 | 5.3938321 | 5.4371112 | 4.6317708 | 5.0428593 | 4.9645060 | 4.6326787 | 4.6513561 | 4.7326682 |\n",
       "| BB28_RS24840 | 7.0203605 | 6.7473125 | 6.996058 | 6.975100 | 6.8157966 | 7.0460728 | 6.0897440 | 5.9687928 | 6.0322325 | 5.8521914 | 6.1241707 | 6.0436049 |\n",
       "| BB28_RS24300 | 8.7392100 | 8.5479404 | 8.585761 | 8.514263 | 8.7212867 | 8.6483741 | 7.6702813 | 7.7459317 | 7.5756186 | 7.4102589 | 7.5808027 | 7.6024544 |\n",
       "| BB28_RS24270 | 0.4151992 | 0.3384616 | 0.486735 | 0.350577 | 0.3628578 | 0.3494475 | 0.3774238 | 0.3647934 | 0.3849537 | 0.3736342 | 0.3613699 | 0.4039952 |\n",
       "| BB28_RS24265 | 2.6602362 | 2.8907806 | 2.495346 | 2.641411 | 2.3266594 | 2.8839911 | 2.3713057 | 2.3915198 | 2.3944866 | 2.4805262 | 2.6444774 | 2.2194832 |\n",
       "| BB28_RS24255 | 3.5056074 | 3.2326578 | 3.558553 | 3.349171 | 3.4704839 | 3.2499029 | 3.6588154 | 3.7010733 | 3.6620384 | 3.8480202 | 3.8663263 | 4.1032590 |\n",
       "\n"
      ],
      "text/plain": [
       "             SRR13349122 SRR13349123 SRR13349124 SRR13349125 SRR13349126\n",
       "BB28_RS24845 5.5173373   5.3203123   5.238671    5.380138    5.3938321  \n",
       "BB28_RS24840 7.0203605   6.7473125   6.996058    6.975100    6.8157966  \n",
       "BB28_RS24300 8.7392100   8.5479404   8.585761    8.514263    8.7212867  \n",
       "BB28_RS24270 0.4151992   0.3384616   0.486735    0.350577    0.3628578  \n",
       "BB28_RS24265 2.6602362   2.8907806   2.495346    2.641411    2.3266594  \n",
       "BB28_RS24255 3.5056074   3.2326578   3.558553    3.349171    3.4704839  \n",
       "             SRR13349127 SRR13349128 SRR13349129 SRR13349130 SRR13349131\n",
       "BB28_RS24845 5.4371112   4.6317708   5.0428593   4.9645060   4.6326787  \n",
       "BB28_RS24840 7.0460728   6.0897440   5.9687928   6.0322325   5.8521914  \n",
       "BB28_RS24300 8.6483741   7.6702813   7.7459317   7.5756186   7.4102589  \n",
       "BB28_RS24270 0.3494475   0.3774238   0.3647934   0.3849537   0.3736342  \n",
       "BB28_RS24265 2.8839911   2.3713057   2.3915198   2.3944866   2.4805262  \n",
       "BB28_RS24255 3.2499029   3.6588154   3.7010733   3.6620384   3.8480202  \n",
       "             SRR13349132 SRR13349133\n",
       "BB28_RS24845 4.6513561   4.7326682  \n",
       "BB28_RS24840 6.1241707   6.0436049  \n",
       "BB28_RS24300 7.5808027   7.6024544  \n",
       "BB28_RS24270 0.3613699   0.4039952  \n",
       "BB28_RS24265 2.6444774   2.2194832  \n",
       "BB28_RS24255 3.8663263   4.1032590  "
      ]
     },
     "metadata": {},
     "output_type": "display_data"
    }
   ],
   "source": [
    "#perform rlog normalization on deseq2 object\n",
    "rld <- rlog(deseq2Data, blind=FALSE)\n",
    "#a variable to easily retrieve matrix of rlog genecount values from deseq object\n",
    "rlogcounts <- assay(rld)\n",
    "rownames(rlogcounts) <- rownames(deseq2Data)\n",
    "#a variable to easily retrieve matrix of rlog genecount values from deseq object\n",
    "head(rlogcounts)"
   ]
  },
  {
   "cell_type": "markdown",
   "metadata": {},
   "source": [
    "Normalization of data can is often verified by inspecting by various plots, for instance histograms:"
   ]
  },
  {
   "cell_type": "code",
   "execution_count": 6,
   "metadata": {},
   "outputs": [
    {
     "data": {
      "image/png": "[encoded data removed]",
      "text/plain": [
       "Plot with title “Histogram of rlogcounts”"
      ]
     },
     "metadata": {
      "image/png": {
       "height": 420,
       "width": 420
      }
     },
     "output_type": "display_data"
    }
   ],
   "source": [
    "hist(rlogcounts)"
   ]
  },
  {
   "cell_type": "markdown",
   "metadata": {},
   "source": [
    "Boxplots:"
   ]
  },
  {
   "cell_type": "code",
   "execution_count": 7,
   "metadata": {},
   "outputs": [
    {
     "data": {
      "image/png": "[encoded data removed]",
      "text/plain": [
       "plot without title"
      ]
     },
     "metadata": {
      "image/png": {
       "height": 420,
       "width": 420
      }
     },
     "output_type": "display_data"
    }
   ],
   "source": [
    "boxplot(rlogcounts)"
   ]
  },
  {
   "cell_type": "markdown",
   "metadata": {},
   "source": [
    "Or pairwise comparison plots:"
   ]
  },
  {
   "cell_type": "code",
   "execution_count": null,
   "metadata": {},
   "outputs": [],
   "source": [
    "pairs(rlogcounts)"
   ]
  },
  {
   "cell_type": "markdown",
   "metadata": {},
   "source": [
    "Beecause the data has been normalized the distirbution of the box plots are exactly the same."
   ]
  },
  {
   "cell_type": "markdown",
   "metadata": {},
   "source": [
    "### STEP 7: PCA Plot\n",
    "\n",
    "One analysis is to plot and exmaine a PCA plot. PCA plots can be used to visualize variation within and between sample sets."
   ]
  },
  {
   "cell_type": "code",
   "execution_count": null,
   "metadata": {},
   "outputs": [],
   "source": [
    "plotPCA(rld, intgroup=c(\"Treatment\"))"
   ]
  },
  {
   "cell_type": "markdown",
   "metadata": {},
   "source": [
    "Plots can be also saved as pdf or image files."
   ]
  },
  {
   "cell_type": "code",
   "execution_count": null,
   "metadata": {},
   "outputs": [],
   "source": [
    "pdf(\"data/gene_counts/PCA_Plot.pdf\")\n",
    "plotPCA(rld, intgroup=c(\"Treatment\"))\n",
    "dev.off()"
   ]
  },
  {
   "cell_type": "markdown",
   "metadata": {},
   "source": [
    "### STEP 8: Contrast Comparisons\n",
    "\n",
    "Contrast comparisons between two treatment groups can be performed using the deseq2 tool to identify differentially up and down regulated genes.\n",
    "\n",
    "Using R, these results can be summarized, reordered, and/or trimmed."
   ]
  },
  {
   "cell_type": "code",
   "execution_count": null,
   "metadata": {},
   "outputs": [],
   "source": [
    "res_WT_BPs <- results(deseq2Data, contrast=c(\"Treatment\",\"WT\",\"BPs_lysogen\"))\n",
    "summary(res_WT_BPs)\n",
    "print(\"Number of genes under a p value of 0.05\")\n",
    "sum(res_WT_BPs$pvalue < 0.05, na.rm=TRUE)\n",
    "print(\"Number of genes under a p adjusted value of 0.05\")\n",
    "sum(res_WT_BPs$padj < 0.05, na.rm=TRUE)\n",
    "head(res_WT_BPs)\n",
    "#results can also be re-ordered using r\n",
    "resOrdered_WT_BPs <- res_WT_BPs[order(res_WT_BPs$pvalue),]"
   ]
  },
  {
   "cell_type": "markdown",
   "metadata": {},
   "source": [
    "### STEP 9: Annotating and Exporting Results\n",
    "\n",
    "These differentially expressed genes can be annotated, if necessary, and exported."
   ]
  },
  {
   "cell_type": "code",
   "execution_count": null,
   "metadata": {},
   "outputs": [],
   "source": [
    "#read the annotation file and store it into a variable.\n",
    "annotation <- read.table(\"data/reference/GCF_001632805.1_ASM163280v1_feature_table.txt\", header=TRUE,sep='\\t', quote=\"\\\"\",comment.char = \"\")\n",
    "#put the previous deseq results into an easier to use data.frame format\n",
    "results <- data.frame(res_WT_BPs)\n",
    "\n",
    "\n",
    "#filter duplicate 'gene' rows\n",
    "annotation <- annotation[annotation$X..feature!='gene',]\n",
    "#\n",
    "\n",
    "#join the deseq2 results with reference the annotation file\n",
    "#in this case, our gene readcounts use the locus tag, so we will join by that.\n",
    "#the locus tag is in our results rowname, and is in the 17th column of the annotation file\n",
    "\n",
    "results.annot <- merge(results,annotation,by.x=0,by.y=17,all.x=TRUE)\n",
    "\n",
    "#labeling the columns properly after the merge\n",
    "colnames(results.annot)[1] <- 'locus_tag'\n",
    "\n",
    "head(results.annot)\n",
    "\n",
    "#writing out the file\n",
    "write.table(results.annot,\"data/gene_counts/WT_BPs_DESeq2_annot.txt\",row.names=FALSE,sep=\"\\t\")"
   ]
  },
  {
   "cell_type": "markdown",
   "metadata": {},
   "source": [
    "### STEP 10: More Plots and Clustering Data\n",
    "\n",
    "The results of differential gene expression analysis can be used to make various plots, including ma and heatplots. Heatplots can also be used to further cluster the data with k-mean derived dendrograms.\n"
   ]
  },
  {
   "cell_type": "code",
   "execution_count": null,
   "metadata": {},
   "outputs": [],
   "source": [
    "#ma plot; here the blue points indicate genes with an fd less than 0.05\n",
    "plotMA(res_WT_BPs)\n",
    "\n",
    "\n",
    "#heatmaps can used to look at clustering and expression of various gene lists.\n",
    "\n",
    "filtered_res <- results.annot %>% filter(padj < 0.05)\n",
    "filtered_res_counts <- subset(rlogcounts, rownames(rlogcounts) %in% filtered_res[,1])\n",
    "\n",
    "#scaling for z score\n",
    "filtered_res_counts = t(scale(t(filtered_res_counts)))\n",
    "\n",
    "Heatmap(filtered_res_counts[1:50,], name = \"Z-Score\", row_names_gp = gpar(fontsize = 8))\n",
    "\n",
    "#add volcano plot\n",
    "\n",
    "results_volc_df <- results.annot\n",
    "results_volc_df$diffexpressed <- rep(\"NO\",nrow(results_volc_df))\n",
    "\n",
    "results_volc_df$diffexpressed[results_volc_df$padj < 0.05 & results_volc_df$log2FoldChange > 1] <- \"UP\"\n",
    "results_volc_df$diffexpressed[results_volc_df$padj < 0.05 & results_volc_df$log2FoldChange < -1] <- \"DOWN\"\n",
    "\n",
    "\n",
    "ggplot(data=results_volc_df, aes(x=log2FoldChange, y=-log10(padj), col=diffexpressed)) +\n",
    "        geom_point() + \n",
    "        theme_minimal() +\n",
    "        scale_color_manual(values=c(\"blue\", \"black\", \"red\")) +\n",
    "        geom_vline(xintercept=c(-1, 1), col=\"red\") +\n",
    "        geom_hline(yintercept=-log10(0.05), col=\"red\")\n"
   ]
  },
  {
   "cell_type": "markdown",
   "metadata": {
    "tags": []
   },
   "source": [
    "## <a name=\"workflow\">Additional Workflows</a>"
   ]
  },
  {
   "cell_type": "markdown",
   "metadata": {},
   "source": [
    "Now that you have ran some analysis on read count data, feel feel free to explore and revisit the previous workflows for creating readcounts, such as the standard or extended tutorials, or the snakemake tutorial."
   ]
  },
  {
   "cell_type": "markdown",
   "metadata": {},
   "source": [
    "\n",
    "[Workflow One:](Tutorial_1.ipynb) A short introduction to downloading and mapping sequences to a transcriptome using Trimmomatic and Salmon. Here is a link to the YouTube video demonstrating the tutorial: <https://www.youtube.com/watch?v=NG1U7D4l31o&t=26s>.\n",
    "\n",
    "[Workflow One (Snakemake):](Tutorial_2_Snakemake.ipynb) Using snakemake to run workflow one.\n",
    "\n",
    "[Extended Workflow One:](Tutorial_1_Extended.ipynb) An extended version of workflow one. Once you have got your feet wet, you can retry workflow one with this extended version that covers the entire dataset, and includes elaboration such as using SRA tools for sequence downloading, and examples of running batches of fastq files through the pipeline. This workflow may take around an hour to run.\n",
    "\n",
    "[Workflow Two:](Tutorial_3_R.ipynb) Using Deseq2 and R to conduct clustering and differential gene expression analysis.\n"
   ]
  },
  {
   "cell_type": "markdown",
   "metadata": {},
   "source": [
    "![RNA-Seq workflow](images/RNA-Seq_Notebook_Homepage.png)"
   ]
  }
 ],
 "metadata": {
  "environment": {
   "kernel": "ir",
   "name": "r-cpu.4-1.m92",
   "type": "gcloud",
   "uri": "gcr.io/deeplearning-platform-release/r-cpu.4-1:m92"
  },
  "kernelspec": {
   "display_name": "R",
   "language": "R",
   "name": "ir"
  },
  "language_info": {
   "codemirror_mode": "r",
   "file_extension": ".r",
   "mimetype": "text/x-r-source",
   "name": "R",
   "pygments_lexer": "r",
   "version": "4.2.0"
  }
 },
 "nbformat": 4,
 "nbformat_minor": 4
}
