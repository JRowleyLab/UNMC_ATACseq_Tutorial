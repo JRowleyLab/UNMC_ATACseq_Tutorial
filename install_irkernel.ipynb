{
 "cells": [
  {
   "cell_type": "markdown",
   "id": "35c51319-2596-421d-b605-3722a12ff671",
   "metadata": {},
   "source": [
    "# Installing IRkernel\n",
    "\n",
    "The R tutorial file requires the R framework. If you are running a virtual machine without this framework already installed, you can install the 'R' kernel needed to run the R tutorial file here."
   ]
  },
  {
   "cell_type": "markdown",
   "id": "0b870f99-5514-4b32-9ce7-dcde3a3d793c",
   "metadata": {
    "tags": []
   },
   "source": [
    "### STEP 1: Install Mambaforge."
   ]
  },
  {
   "cell_type": "code",
   "execution_count": null,
   "id": "2312b482-d94f-4b5b-be56-69c08d944754",
   "metadata": {},
   "outputs": [],
   "source": [
    "!curl -L -O https://github.com/conda-forge/miniforge/releases/latest/download/Mambaforge-$(uname)-$(uname -m).sh\n",
    "!bash Mambaforge-$(uname)-$(uname -m).sh -b -u -p $HOME/mambaforge\n",
    "!export PATH=\"$HOME/mambaforge/bin:$PATH\""
   ]
  },
  {
   "cell_type": "markdown",
   "id": "ef2bcd36-990d-460e-b416-65c756faf92a",
   "metadata": {
    "tags": []
   },
   "source": [
    "### STEP 2: Install R\n",
    "\n",
    "Install R programming language"
   ]
  },
  {
   "cell_type": "code",
   "execution_count": null,
   "id": "ad608977-65c1-4301-8068-3aa270049123",
   "metadata": {},
   "outputs": [],
   "source": [
    "!$HOME/mambaforge/bin/mamba install -c conda-forge r-base -y\n",
    "!R -e \"install.packages('IRkernel',repos = 'http://cran.rstudio.com')\"\n",
    "!R -e \"IRkernel::installspec()\"\n",
    "!conda install -c bioconda bioconductor-deseq2 -y\n"
   ]
  },
  {
   "cell_type": "markdown",
   "id": "a7424603-6dbc-4e57-95d9-8cde6ed5005b",
   "metadata": {
    "tags": []
   },
   "source": [
    "### STEP 3: Install IRkernel\n",
    "\n",
    "Install the IRkernel to be able to run R code through a Jupyter Notebook."
   ]
  },
  {
   "cell_type": "code",
   "execution_count": null,
   "id": "dc059109-a655-48ac-8055-178d482bfdae",
   "metadata": {},
   "outputs": [],
   "source": [
    "!R -e \"install.packages('IRkernel',repos = 'http://cran.rstudio.com')\"\n",
    "!R -e \"IRkernel::installspec()\"\n",
    "#!conda install -c bioconda bioconductor-deseq2 -y"
   ]
  }
 ],
 "metadata": {
  "environment": {
   "kernel": "python3",
   "name": "r-cpu.4-1.m91",
   "type": "gcloud",
   "uri": "gcr.io/deeplearning-platform-release/r-cpu.4-1:m91"
  },
  "kernelspec": {
   "display_name": "Python 3",
   "language": "python",
   "name": "python3"
  },
  "language_info": {
   "codemirror_mode": {
    "name": "ipython",
    "version": 3
   },
   "file_extension": ".py",
   "mimetype": "text/x-python",
   "name": "python",
   "nbconvert_exporter": "python",
   "pygments_lexer": "ipython3",
   "version": "3.7.12"
  }
 },
 "nbformat": 4,
 "nbformat_minor": 5
}
