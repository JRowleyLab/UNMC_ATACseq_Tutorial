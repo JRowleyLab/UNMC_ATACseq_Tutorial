{
 "cells": [
  {
   "cell_type": "markdown",
   "id": "99cfa998-06b6-4b42-ae3a-b4e011750d31",
   "metadata": {},
   "source": [
    "# RNA-Seq Analysis Training Demo (Snakemake)"
   ]
  },
  {
   "cell_type": "markdown",
   "id": "4126cb07-34ee-4780-838f-872015a882b3",
   "metadata": {},
   "source": [
    "## Overview"
   ]
  },
  {
   "cell_type": "markdown",
   "id": "f15ea992-faa6-4705-8384-eb5d81f5daff",
   "metadata": {},
   "source": [
    "This short tutorial demonstrates how to run an RNA-Seq workflow using a prokaryotic data set. Steps in the workflow include read trimming, read QC, read mapping, and counting mapped reads per gene to quantitate gene expression. This tutorial uses a popular workflow manager called 'snakemake'. More information on snakemake can be found <a href=\"https://snakemake.readthedocs.io/en/stable/\">here</a>.\n",
    "\n",
    "![RNA-Seq workflow](images/rnaseq-workflow.png)"
   ]
  },
  {
   "cell_type": "markdown",
   "id": "dd7ab630-955d-43d1-bc43-c7b3e701ed04",
   "metadata": {
    "jp-MarkdownHeadingCollapsed": true,
    "tags": []
   },
   "source": [
    "### STEP 1: Install mambaforge\n",
    "First install mambaforge.\n",
    "\n",
    "Later on, we will use it to install snakemake, as well as create a snakemake environment using mambaforge."
   ]
  },
  {
   "cell_type": "code",
   "execution_count": 1,
   "id": "682ddf88-e1d9-443f-a423-e1f85ff604a2",
   "metadata": {},
   "outputs": [
    {
     "name": "stdout",
     "output_type": "stream",
     "text": [
      "  % Total    % Received % Xferd  Average Speed   Time    Time     Time  Current\n",
      "                                 Dload  Upload   Total   Spent    Left  Speed\n",
      "100   160  100   160    0     0   2025      0 --:--:-- --:--:-- --:--:--  2025\n",
      "100   665  100   665    0     0   4463      0 --:--:-- --:--:-- --:--:--  4463\n",
      "100 88.6M  100 88.6M    0     0   228M      0 --:--:-- --:--:-- --:--:--  228M\n",
      "ERROR: File or directory already exists: '/home/jupyter/mambaforge'\n",
      "If you want to update an existing installation, use the -u option.\n",
      "Collecting package metadata (current_repodata.json): done\n",
      "Solving environment: done\n",
      "\n",
      "# All requested packages already installed.\n",
      "\n"
     ]
    }
   ],
   "source": [
    "!curl -L -O https://github.com/conda-forge/miniforge/releases/latest/download/Mambaforge-$(uname)-$(uname -m).sh\n",
    "!bash Mambaforge-$(uname)-$(uname -m).sh -b -p $HOME/mambaforge\n",
    "!conda install -n base -c conda-forge mamba -y"
   ]
  },
  {
   "cell_type": "markdown",
   "id": "43d67299-cf08-4df0-99a3-aee8c761248a",
   "metadata": {},
   "source": [
    "### STEP 2: Create directories that will be used in our analysis"
   ]
  },
  {
   "cell_type": "code",
   "execution_count": 2,
   "id": "773ba697-01f2-487d-b7ff-9885959b85cb",
   "metadata": {},
   "outputs": [
    {
     "name": "stdout",
     "output_type": "stream",
     "text": [
      "/home/jupyter/testnb\n"
     ]
    }
   ],
   "source": [
    "!echo $PWD\n",
    "!mkdir -p data\n",
    "!mkdir -p data/raw_fastq\n",
    "!mkdir -p data/trimmed\n",
    "!mkdir -p data/reference\n",
    "!mkdir -p data/fastqc\n",
    "!mkdir -p envs"
   ]
  },
  {
   "cell_type": "markdown",
   "id": "bb0ce8d5-4b96-4e97-88ed-44e8e85f4fc0",
   "metadata": {},
   "source": [
    "### STEP 3: Copy FASTQ Files\n",
    "In order for this tutorial to run quickly, we will only analyze 50,000 reads from a sample from both sample groupsinstead of analyzing all the reads from all six samples. These files have been posted on a Google Storage Bucket that we made publicly accessible.\n"
   ]
  },
  {
   "cell_type": "code",
   "execution_count": 3,
   "id": "db364248-e608-47c9-ab82-b5eab24ccfb0",
   "metadata": {},
   "outputs": [
    {
     "name": "stdout",
     "output_type": "stream",
     "text": [
      "  % Total    % Received % Xferd  Average Speed   Time    Time     Time  Current\n",
      "                                 Dload  Upload   Total   Spent    Left  Speed\n",
      "100 8452k  100 8452k    0     0   171M      0 --:--:-- --:--:-- --:--:--  171M\n",
      "  % Total    % Received % Xferd  Average Speed   Time    Time     Time  Current\n",
      "                                 Dload  Upload   Total   Spent    Left  Speed\n",
      "100 8452k  100 8452k    0     0   131M      0 --:--:-- --:--:-- --:--:--  131M\n",
      "  % Total    % Received % Xferd  Average Speed   Time    Time     Time  Current\n",
      "                                 Dload  Upload   Total   Spent    Left  Speed\n",
      "100 8452k  100 8452k    0     0   117M      0 --:--:-- --:--:-- --:--:--  117M\n",
      "  % Total    % Received % Xferd  Average Speed   Time    Time     Time  Current\n",
      "                                 Dload  Upload   Total   Spent    Left  Speed\n",
      "100 8452k  100 8452k    0     0   144M      0 --:--:-- --:--:-- --:--:--  144M\n"
     ]
    }
   ],
   "source": [
    "!curl https://storage.googleapis.com/me-inbre-rnaseq-pipelinev2/data/raw_fastqSub/SRR13349122_1.fastq --output data/raw_fastq/SRR13349122_1.fastq\n",
    "!curl https://storage.googleapis.com/me-inbre-rnaseq-pipelinev2/data/raw_fastqSub/SRR13349122_2.fastq --output data/raw_fastq/SRR13349122_2.fastq\n",
    "!curl https://storage.googleapis.com/me-inbre-rnaseq-pipelinev2/data/raw_fastqSub/SRR13349128_1.fastq --output data/raw_fastq/SRR13349128_1.fastq\n",
    "!curl https://storage.googleapis.com/me-inbre-rnaseq-pipelinev2/data/raw_fastqSub/SRR13349128_2.fastq --output data/raw_fastq/SRR13349128_2.fastq"
   ]
  },
  {
   "cell_type": "markdown",
   "id": "ec692c28-f549-43af-bbdf-3c4266fb59ae",
   "metadata": {},
   "source": [
    "### STEP 4: Copy reference transcriptome files that will be used by Salmon\n",
    "Salmon is a tool that aligns RNA-Seq reads to a set of transcripts rather than the entire genome."
   ]
  },
  {
   "cell_type": "code",
   "execution_count": 4,
   "id": "263c3e9c-4fc2-4945-a639-e1079e1aff5c",
   "metadata": {},
   "outputs": [
    {
     "name": "stdout",
     "output_type": "stream",
     "text": [
      "  % Total    % Received % Xferd  Average Speed   Time    Time     Time  Current\n",
      "                                 Dload  Upload   Total   Spent    Left  Speed\n",
      "100 9599k  100 9599k    0     0   156M      0 --:--:-- --:--:-- --:--:--  156M\n",
      "  % Total    % Received % Xferd  Average Speed   Time    Time     Time  Current\n",
      "                                 Dload  Upload   Total   Spent    Left  Speed\n",
      "100    14  100    14    0     0   1076      0 --:--:-- --:--:-- --:--:--  1076\n"
     ]
    }
   ],
   "source": [
    "!curl https://storage.googleapis.com/me-inbre-rnaseq-pipelinev2/data/reference/M_chelonae_transcripts.fasta --output data/reference/M_chelonae_transcripts.fasta\n",
    "!curl https://storage.googleapis.com/me-inbre-rnaseq-pipelinev2/data/reference/decoys.txt --output data/reference/decoys.txt\n"
   ]
  },
  {
   "cell_type": "markdown",
   "id": "ea2d17cb-dff6-45d3-9aef-3ec6203508f6",
   "metadata": {
    "tags": []
   },
   "source": [
    "### STEP 5: Copy data file for Trimmomatic"
   ]
  },
  {
   "cell_type": "code",
   "execution_count": 5,
   "id": "7200cafc-c816-48f1-819c-dd3c2ce34de3",
   "metadata": {
    "tags": []
   },
   "outputs": [
    {
     "name": "stdout",
     "output_type": "stream",
     "text": [
      "  % Total    % Received % Xferd  Average Speed   Time    Time     Time  Current\n",
      "                                 Dload  Upload   Total   Spent    Left  Speed\n",
      "100    95  100    95    0     0  11875      0 --:--:-- --:--:-- --:--:-- 11875\n"
     ]
    }
   ],
   "source": [
    "!curl https://storage.googleapis.com/me-inbre-rnaseq-pipelinev2/config/TruSeq3-PE.fa --output TruSeq3-PE.fa"
   ]
  },
  {
   "cell_type": "markdown",
   "id": "f83e588b-b2a1-4919-8f80-1eed1551708a",
   "metadata": {},
   "source": [
    "### STEP 6: Install Snakemake"
   ]
  },
  {
   "cell_type": "code",
   "execution_count": 6,
   "id": "d9cbdc27-039e-470f-ae5b-46ff17dceb3a",
   "metadata": {},
   "outputs": [
    {
     "name": "stdout",
     "output_type": "stream",
     "text": [
      "\n",
      "                  __    __    __    __\n",
      "                 /  \\  /  \\  /  \\  /  \\\n",
      "                /    \\/    \\/    \\/    \\\n",
      "███████████████/  /██/  /██/  /██/  /████████████████████████\n",
      "              /  / \\   / \\   / \\   / \\  \\____\n",
      "             /  /   \\_/   \\_/   \\_/   \\    o \\__,\n",
      "            / _/                       \\_____/  `\n",
      "            |/\n",
      "        ███╗   ███╗ █████╗ ███╗   ███╗██████╗  █████╗\n",
      "        ████╗ ████║██╔══██╗████╗ ████║██╔══██╗██╔══██╗\n",
      "        ██╔████╔██║███████║██╔████╔██║██████╔╝███████║\n",
      "        ██║╚██╔╝██║██╔══██║██║╚██╔╝██║██╔══██╗██╔══██║\n",
      "        ██║ ╚═╝ ██║██║  ██║██║ ╚═╝ ██║██████╔╝██║  ██║\n",
      "        ╚═╝     ╚═╝╚═╝  ╚═╝╚═╝     ╚═╝╚═════╝ ╚═╝  ╚═╝\n",
      "\n",
      "        mamba (0.22.1) supported by @QuantStack\n",
      "\n",
      "        GitHub:  https://github.com/mamba-org/mamba\n",
      "        Twitter: https://twitter.com/QuantStack\n",
      "\n",
      "█████████████████████████████████████████████████████████████\n",
      "\n",
      "\n",
      "Looking for: ['snakemake']\n",
      "\n",
      "conda-forge/linux-64                                        Using cache\n",
      "conda-forge/noarch                                          Using cache\n",
      "bioconda/linux-64                                           Using cache\n",
      "bioconda/noarch                                             Using cache\n",
      "\u001b[?25l\u001b[2K\u001b[0G[+] 0.0s\n",
      "pkgs/main/linux-64 \u001b[33m━━━━━━━━╸\u001b[0m\u001b[90m━━━━━━━━━━━━━━━━\u001b[0m   0.0 B /  ??.?MB @  ??.?MB/s  0.0s\u001b[2K\u001b[1A\u001b[2K\u001b[0G[+] 0.1s\n",
      "pkgs/main/linux-64 \u001b[33m━━━━━━━━╸\u001b[0m\u001b[90m━━━━━━━━━━━━━━━━\u001b[0m   0.0 B /  ??.?MB @  ??.?MB/s  0.1s\n",
      "pkgs/main/noarch   \u001b[90m━━━━━━━━━━━━━━╸\u001b[0m\u001b[33m━━━━━━━━━━\u001b[0m   0.0 B /  ??.?MB @  ??.?MB/s  0.1s\n",
      "pkgs/r/linux-64    \u001b[33m━━━━━━━╸\u001b[0m\u001b[90m━━━━━━━━━━━━━━━━━\u001b[0m   0.0 B /  ??.?MB @  ??.?MB/s  0.1s\n",
      "pkgs/r/noarch      \u001b[90m╸\u001b[0m\u001b[33m━━━━━━━━━━━━━━━╸\u001b[0m\u001b[90m━━━━━━━━\u001b[0m   0.0 B /  ??.?MB @  ??.?MB/s  0.1s\u001b[2K\u001b[1A\u001b[2K\u001b[1A\u001b[2K\u001b[1A\u001b[2K\u001b[1A\u001b[2K\u001b[0Gpkgs/r/linux-64                                               No change\n",
      "pkgs/main/linux-64                                            No change\n",
      "pkgs/main/noarch                                              No change\n",
      "pkgs/r/noarch                                                 No change\n",
      "\u001b[?25h\n",
      "Pinned packages:\n",
      "  - python 3.7.*\n",
      "\n",
      "\n",
      "Transaction\n",
      "\n",
      "  Prefix: /opt/conda\n",
      "\n",
      "  All requested packages already installed\n",
      "\n",
      "\u001b[?25l\u001b[2K\u001b[0G\u001b[?25h"
     ]
    }
   ],
   "source": [
    "!$HOME/mambaforge/bin/mamba install -y -c conda-forge -c bioconda snakemake"
   ]
  },
  {
   "cell_type": "markdown",
   "id": "5ac668db-7851-418e-9b1e-0a2c4abbab6e",
   "metadata": {},
   "source": [
    "### STEP 7: Download data and config files that will be used in our snakemake environment\n",
    "\n",
    "Next download config files for our snakemake environment, as well as data files which we will analyze."
   ]
  },
  {
   "cell_type": "code",
   "execution_count": 7,
   "id": "a227a36a-a398-49f5-b497-7405574b018b",
   "metadata": {},
   "outputs": [
    {
     "name": "stdout",
     "output_type": "stream",
     "text": [
      "  % Total    % Received % Xferd  Average Speed   Time    Time     Time  Current\n",
      "                                 Dload  Upload   Total   Spent    Left  Speed\n",
      "100    67  100    67    0     0   7444      0 --:--:-- --:--:-- --:--:--  7444\n",
      "  % Total    % Received % Xferd  Average Speed   Time    Time     Time  Current\n",
      "                                 Dload  Upload   Total   Spent    Left  Speed\n",
      "100  3517  100  3517    0     0   381k      0 --:--:-- --:--:-- --:--:--  381k\n",
      "  % Total    % Received % Xferd  Average Speed   Time    Time     Time  Current\n",
      "                                 Dload  Upload   Total   Spent    Left  Speed\n",
      "100   106  100   106    0     0  11777      0 --:--:-- --:--:-- --:--:-- 11777\n",
      "  % Total    % Received % Xferd  Average Speed   Time    Time     Time  Current\n",
      "                                 Dload  Upload   Total   Spent    Left  Speed\n",
      "100   106  100   106    0     0  10600      0 --:--:-- --:--:-- --:--:-- 10600\n",
      "  % Total    % Received % Xferd  Average Speed   Time    Time     Time  Current\n",
      "                                 Dload  Upload   Total   Spent    Left  Speed\n",
      "100    86  100    86    0     0   7818      0 --:--:-- --:--:-- --:--:--  7818\n"
     ]
    }
   ],
   "source": [
    "# Copy config and data files\n",
    "\n",
    "!curl https://storage.googleapis.com/me-inbre-rnaseq-pipelinev2/config.yaml --output config.yaml\n",
    "!curl https://storage.googleapis.com/me-inbre-rnaseq-pipelinev2/snakefile --output snakefile\n",
    "!curl https://storage.googleapis.com/me-inbre-rnaseq-pipelinev2/envs/fastqc.yaml --output envs/fastqc.yaml\n",
    "!curl https://storage.googleapis.com/me-inbre-rnaseq-pipelinev2/envs/trimmomatic.yaml --output envs/trimmomatic.yaml\n",
    "!curl https://storage.googleapis.com/me-inbre-rnaseq-pipelinev2/envs/salmon.yaml --output envs/salmon.yaml"
   ]
  },
  {
   "cell_type": "markdown",
   "id": "c64efb6e-cf92-4c6f-af76-d60c9a10ed59",
   "metadata": {},
   "source": [
    "#### Explanation of config files\n",
    "\n",
    "Below is a brief explanation of the config files:"
   ]
  },
  {
   "cell_type": "code",
   "execution_count": 8,
   "id": "c648b302-f125-4dd6-b4e7-0d371e65b81d",
   "metadata": {},
   "outputs": [
    {
     "name": "stdout",
     "output_type": "stream",
     "text": [
      "The config.yaml file contains our sample names:\n",
      "\n",
      " Config.yaml\n",
      "samples:\n",
      "    SRR13349122: SRR13349122\n",
      "    SRR13349128: SRR13349128\n",
      "\n",
      "\n",
      "The env folder contains information pertaining to packages to be used in the environment, \n",
      "as well as their version, for example, here is the 'envs/fastqc.yaml' file:\n",
      "\n",
      " Fastqc.Yaml\n",
      "channels:\n",
      "  - bioconda\n",
      "  - conda-forge\n",
      "  - defaults\n",
      "dependencies:\n",
      "  - fastqc ==0.11.9\n",
      "  - multiqc ==1.12\n",
      "\n"
     ]
    }
   ],
   "source": [
    "!printf \"The config.yaml file contains our sample names:\\n\\n Config.yaml\\n\"\n",
    "!cat config.yaml\n",
    "!printf \"\\n\\nThe env folder contains information pertaining to packages to be used in the environment, \\nas well as their version, for example, here is the 'envs/fastqc.yaml' file:\\n\\n Fastqc.Yaml\\n\"\n",
    "!cat envs/fastqc.yaml"
   ]
  },
  {
   "cell_type": "markdown",
   "id": "ec2c0273-c7f1-4aee-bdf3-43d5773cf2fa",
   "metadata": {},
   "source": [
    "### STEP 8: Run snakemake on our snakefile"
   ]
  },
  {
   "cell_type": "code",
   "execution_count": null,
   "id": "bee32318-33df-43b2-98bc-5eb091ceae59",
   "metadata": {
    "tags": []
   },
   "outputs": [],
   "source": [
    "!snakemake --cores --use-conda --forceall"
   ]
  },
  {
   "cell_type": "markdown",
   "id": "fa372596-3377-4443-a325-e68bfa44c079",
   "metadata": {
    "tags": []
   },
   "source": [
    "## <a name=\"workflow\">Additional Workflows</a>"
   ]
  },
  {
   "cell_type": "markdown",
   "id": "7ac0bc9c-ff37-4ca1-b094-68f591d993a6",
   "metadata": {},
   "source": [
    "Now that you have read counts per gene, feel free to explore the R workflow which creates plots and analyses using these readcount files, or try other alternate workflows for creating read count files, such as the standard short or extended tutorials."
   ]
  },
  {
   "cell_type": "markdown",
   "id": "08a552e6-e8fb-49da-a223-34c370054910",
   "metadata": {},
   "source": [
    "\n",
    "[Workflow One:](Tutorial_1.ipynb) A short introduction to downloading and mapping sequences to a transcriptome using Trimmomatic and Salmon. Here is a link to the YouTube video demonstrating the tutorial: <https://www.youtube.com/watch?v=NG1U7D4l31o&t=26s>.\n",
    "\n",
    "[Workflow One (Extended):](Tutorial_1B_Extended.ipynb) An extended version of workflow one. Once you have got your feet wet, you can retry workflow one with this extended version that covers the entire dataset, and includes elaboration such as using SRA tools for sequence downloading, and examples of running batches of fastq files through the pipeline. This workflow may take around an hour to run.\n",
    "\n",
    "[Workflow One (Using Snakemake):](Tutorial_2_Snakemake.ipynb) Using snakemake to run workflow one.\n",
    "\n",
    "[Workflow Two (DEG Analysis):](Tutorial_3_DEG_Analysis.ipynb) Using Deseq2 and R to conduct clustering and differential gene expression analysis.\n"
   ]
  },
  {
   "cell_type": "markdown",
   "id": "fcf924fb-4301-43ee-b3d5-377c5623c146",
   "metadata": {},
   "source": [
    "![RNA-Seq workflow](images/RNA-Seq_Notebook_Homepage.png)"
   ]
  }
 ],
 "metadata": {
  "environment": {
   "kernel": "python3",
   "name": "r-cpu.4-1.m92",
   "type": "gcloud",
   "uri": "gcr.io/deeplearning-platform-release/r-cpu.4-1:m92"
  },
  "kernelspec": {
   "display_name": "Python 3",
   "language": "python",
   "name": "python3"
  },
  "language_info": {
   "codemirror_mode": {
    "name": "ipython",
    "version": 3
   },
   "file_extension": ".py",
   "mimetype": "text/x-python",
   "name": "python",
   "nbconvert_exporter": "python",
   "pygments_lexer": "ipython3",
   "version": "3.7.12"
  }
 },
 "nbformat": 4,
 "nbformat_minor": 5
}
